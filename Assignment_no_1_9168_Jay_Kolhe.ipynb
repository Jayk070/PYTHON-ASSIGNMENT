{
  "nbformat": 4,
  "nbformat_minor": 0,
  "metadata": {
    "colab": {
      "name": "Assignment no 1 9168 Jay Kolhe.ipynb",
      "provenance": []
    },
    "kernelspec": {
      "name": "python3",
      "display_name": "Python 3"
    },
    "language_info": {
      "name": "python"
    }
  },
  "cells": [
    {
      "cell_type": "markdown",
      "source": [
        "Name- Jay Ramesh Kolhe\n",
        "\n",
        "Roll No= 9168"
      ],
      "metadata": {
        "id": "tOqQPDWxZryJ"
      }
    },
    {
      "cell_type": "markdown",
      "source": [
        "Lists"
      ],
      "metadata": {
        "id": "O9QM-e47b37O"
      }
    },
    {
      "cell_type": "code",
      "source": [
        "A=[\"Jay\",\"Kolhe\",23,\"Student\"]\n",
        "B=[\"Sir Parashurambhau College\",\"Statistics\",\"Autonomous\",\"Sadashiv Peth\",411030]\n",
        "print(A)\n",
        "print(B)"
      ],
      "metadata": {
        "colab": {
          "base_uri": "https://localhost:8080/"
        },
        "id": "P4yxZ3ljZ1z6",
        "outputId": "01163166-fd25-4f9f-f1d2-5a7e33543561"
      },
      "execution_count": 22,
      "outputs": [
        {
          "output_type": "stream",
          "name": "stdout",
          "text": [
            "['Jay', 'Kolhe', 23, 'Student']\n",
            "['Sir Parashurambhau College', 'Statistics', 'Autonomous', 'Sadashiv Peth', 411030]\n"
          ]
        }
      ]
    },
    {
      "cell_type": "markdown",
      "source": [
        "Tupples"
      ],
      "metadata": {
        "id": "AEl_FSJqb03Z"
      }
    },
    {
      "cell_type": "code",
      "source": [
        "a=(\"Jay\",\"Kolhe\",23,\"Student\")\n",
        "b=(\"Sir Parashurambhau College\",\"Statistics\",\"Autonomous\",\"Sadashiv Peth\",411030)\n",
        "print(a)\n",
        "print(b)"
      ],
      "metadata": {
        "colab": {
          "base_uri": "https://localhost:8080/"
        },
        "id": "9iHkQlqVaKa1",
        "outputId": "56a67cdc-b51b-4d1e-fad3-b7f58b8030b1"
      },
      "execution_count": 23,
      "outputs": [
        {
          "output_type": "stream",
          "name": "stdout",
          "text": [
            "('Jay', 'Kolhe', 23, 'Student')\n",
            "('Sir Parashurambhau College', 'Statistics', 'Autonomous', 'Sadashiv Peth', 411030)\n"
          ]
        }
      ]
    },
    {
      "cell_type": "code",
      "source": [
        "print(A[0:3])\n",
        "print(B[1:4])\n",
        "print(a[3])\n",
        "print(b[1])"
      ],
      "metadata": {
        "colab": {
          "base_uri": "https://localhost:8080/"
        },
        "id": "_kzsVey-aUBU",
        "outputId": "5f2aa2ed-cbfd-4163-f313-0c1c4d7a0aa1"
      },
      "execution_count": 24,
      "outputs": [
        {
          "output_type": "stream",
          "name": "stdout",
          "text": [
            "['Jay', 'Kolhe', 23]\n",
            "['Statistics', 'Autonomous', 'Sadashiv Peth']\n",
            "Student\n",
            "Statistics\n"
          ]
        }
      ]
    },
    {
      "cell_type": "markdown",
      "source": [
        "Class"
      ],
      "metadata": {
        "id": "SdZMqN60bw5O"
      }
    },
    {
      "cell_type": "code",
      "source": [
        "print(type(A))\n",
        "print(type(B))\n",
        "print(type(a))\n",
        "print(type(b))"
      ],
      "metadata": {
        "colab": {
          "base_uri": "https://localhost:8080/"
        },
        "id": "MKonZOViaZcj",
        "outputId": "d3de32cd-e398-48a6-a2bd-d7ebf5c098d1"
      },
      "execution_count": 25,
      "outputs": [
        {
          "output_type": "stream",
          "name": "stdout",
          "text": [
            "<class 'list'>\n",
            "<class 'list'>\n",
            "<class 'tuple'>\n",
            "<class 'tuple'>\n"
          ]
        }
      ]
    },
    {
      "cell_type": "markdown",
      "source": [
        "Copy"
      ],
      "metadata": {
        "id": "5aBm8gQLbtHz"
      }
    },
    {
      "cell_type": "code",
      "source": [
        "print(A)\n",
        "A1=A.copy()\n",
        "print(A1)\n",
        "#### Tupples cannot be copied####"
      ],
      "metadata": {
        "colab": {
          "base_uri": "https://localhost:8080/"
        },
        "id": "SpFPxJHaafzE",
        "outputId": "29472a45-a598-4b21-ea37-7389e540560f"
      },
      "execution_count": 26,
      "outputs": [
        {
          "output_type": "stream",
          "name": "stdout",
          "text": [
            "['Jay', 'Kolhe', 23, 'Student']\n",
            "['Jay', 'Kolhe', 23, 'Student']\n"
          ]
        }
      ]
    },
    {
      "cell_type": "markdown",
      "source": [
        "Append"
      ],
      "metadata": {
        "id": "8S0wYy2xbqqV"
      }
    },
    {
      "cell_type": "code",
      "source": [
        "print(B)\n",
        "B.append(\"Autonomous\")\n",
        "print(B)"
      ],
      "metadata": {
        "colab": {
          "base_uri": "https://localhost:8080/"
        },
        "id": "WCjLNQKYaio4",
        "outputId": "6d6ce287-e685-452e-c34a-5677fc6e0612"
      },
      "execution_count": 27,
      "outputs": [
        {
          "output_type": "stream",
          "name": "stdout",
          "text": [
            "['Sir Parashurambhau College', 'Statistics', 'Autonomous', 'Sadashiv Peth', 411030]\n",
            "['Sir Parashurambhau College', 'Statistics', 'Autonomous', 'Sadashiv Peth', 411030, 'Autonomous']\n"
          ]
        }
      ]
    },
    {
      "cell_type": "markdown",
      "source": [
        "Count"
      ],
      "metadata": {
        "id": "IYAF5diobn5y"
      }
    },
    {
      "cell_type": "code",
      "source": [
        "print(A.count(\" Jay\"))\n",
        "A.append(\"Jay\")\n",
        "print(A.count(\"Jay\"))"
      ],
      "metadata": {
        "colab": {
          "base_uri": "https://localhost:8080/"
        },
        "id": "kYjb-57CapFH",
        "outputId": "355411b9-af5d-4984-d413-635d59a5e4f5"
      },
      "execution_count": 28,
      "outputs": [
        {
          "output_type": "stream",
          "name": "stdout",
          "text": [
            "0\n",
            "2\n"
          ]
        }
      ]
    },
    {
      "cell_type": "markdown",
      "source": [
        "Delete List"
      ],
      "metadata": {
        "id": "z_tW4k49bhrW"
      }
    },
    {
      "cell_type": "code",
      "source": [
        "try:\n",
        " print(A1)\n",
        " del A1\n",
        " print(A1)\n",
        "except:\n",
        "    pass\n",
        "\n",
        "### List A1 is deleted therefore it is showing error\n",
        "### Used Try and Expect to maintain the continuity of the program"
      ],
      "metadata": {
        "colab": {
          "base_uri": "https://localhost:8080/"
        },
        "id": "jM532uf2ar_N",
        "outputId": "f468b87a-edf7-4486-aa98-c06af47d5126"
      },
      "execution_count": 29,
      "outputs": [
        {
          "output_type": "stream",
          "name": "stdout",
          "text": [
            "['Jay', 'Kolhe', 23, 'Student']\n"
          ]
        }
      ]
    },
    {
      "cell_type": "markdown",
      "source": [
        "Extend"
      ],
      "metadata": {
        "id": "AGSW7qAtbb6c"
      }
    },
    {
      "cell_type": "code",
      "source": [
        "print(A)\n",
        "print(B)\n",
        "A.extend(B)\n",
        "print(A)"
      ],
      "metadata": {
        "colab": {
          "base_uri": "https://localhost:8080/"
        },
        "id": "Q9wdQai8av0r",
        "outputId": "f21c18b3-a0cf-4d64-aab4-090561ef87b9"
      },
      "execution_count": 30,
      "outputs": [
        {
          "output_type": "stream",
          "name": "stdout",
          "text": [
            "['Jay', 'Kolhe', 23, 'Student', 'Jay']\n",
            "['Sir Parashurambhau College', 'Statistics', 'Autonomous', 'Sadashiv Peth', 411030, 'Autonomous']\n",
            "['Jay', 'Kolhe', 23, 'Student', 'Jay', 'Sir Parashurambhau College', 'Statistics', 'Autonomous', 'Sadashiv Peth', 411030, 'Autonomous']\n"
          ]
        }
      ]
    },
    {
      "cell_type": "markdown",
      "source": [
        "Index"
      ],
      "metadata": {
        "id": "877MktjNbX5B"
      }
    },
    {
      "cell_type": "code",
      "source": [
        "print(B.index(\"Sadashiv Peth\"))\n",
        "print(A.index(\"Autonomous\"))\n",
        "\n",
        "### If the elements are repeated in the list then index() will provide the index no. of first element"
      ],
      "metadata": {
        "colab": {
          "base_uri": "https://localhost:8080/"
        },
        "id": "sok_WNUZazn4",
        "outputId": "3992d964-6e5e-43ba-c021-7b7c1c383888"
      },
      "execution_count": 31,
      "outputs": [
        {
          "output_type": "stream",
          "name": "stdout",
          "text": [
            "3\n",
            "7\n"
          ]
        }
      ]
    },
    {
      "cell_type": "markdown",
      "source": [
        "Sort"
      ],
      "metadata": {
        "id": "62WJpMxGbTFv"
      }
    },
    {
      "cell_type": "code",
      "source": [
        "Y=[\"P\",\"Q\",\"R\",\"S\"]\n",
        "print(Y)\n",
        "Y1=[7,5,2,8]\n",
        "print(Y1)\n",
        "Y.sort()\n",
        "Y1.sort()\n",
        "print(Y)\n",
        "print(Y1)"
      ],
      "metadata": {
        "colab": {
          "base_uri": "https://localhost:8080/"
        },
        "id": "N3xVUtuma3QD",
        "outputId": "88e09bf4-e13b-4eea-b8cf-eb4c4d3a2d5e"
      },
      "execution_count": 32,
      "outputs": [
        {
          "output_type": "stream",
          "name": "stdout",
          "text": [
            "['P', 'Q', 'R', 'S']\n",
            "[7, 5, 2, 8]\n",
            "['P', 'Q', 'R', 'S']\n",
            "[2, 5, 7, 8]\n"
          ]
        }
      ]
    },
    {
      "cell_type": "markdown",
      "source": [
        "Access"
      ],
      "metadata": {
        "id": "JAjAFH7kbKHS"
      }
    },
    {
      "cell_type": "code",
      "source": [
        "print(Y[:2])\n",
        "print(Y1[0:])"
      ],
      "metadata": {
        "colab": {
          "base_uri": "https://localhost:8080/"
        },
        "id": "AxRZlGvWa7QD",
        "outputId": "d1758f53-1d2c-4eb5-b579-9b1b5430ef3c"
      },
      "execution_count": 33,
      "outputs": [
        {
          "output_type": "stream",
          "name": "stdout",
          "text": [
            "['P', 'Q']\n",
            "[2, 5, 7, 8]\n"
          ]
        }
      ]
    },
    {
      "cell_type": "markdown",
      "source": [
        "Nested List"
      ],
      "metadata": {
        "id": "ltWtdeAGbIv4"
      }
    },
    {
      "cell_type": "code",
      "source": [
        "ABlist=[\"Jay\",\"Sir Parashurambhau College\",[23,411030]]\n",
        "print(ABlist)\n",
        "print(ABlist[2])"
      ],
      "metadata": {
        "colab": {
          "base_uri": "https://localhost:8080/"
        },
        "id": "3DKsRaekbCQm",
        "outputId": "ec66cb17-8988-45f1-e90e-1968c3e82bb4"
      },
      "execution_count": 34,
      "outputs": [
        {
          "output_type": "stream",
          "name": "stdout",
          "text": [
            "['Jay', 'Sir Parashurambhau College', [23, 411030]]\n",
            "[23, 411030]\n"
          ]
        }
      ]
    },
    {
      "cell_type": "code",
      "source": [
        ""
      ],
      "metadata": {
        "id": "JbMbs1JwbFMe"
      },
      "execution_count": 34,
      "outputs": []
    }
  ]
}
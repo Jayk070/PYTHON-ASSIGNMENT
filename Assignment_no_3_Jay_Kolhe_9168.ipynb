{
  "nbformat": 4,
  "nbformat_minor": 0,
  "metadata": {
    "colab": {
      "name": "Assignment_no_3_Jay Kolhe 9168.ipynb",
      "provenance": []
    },
    "kernelspec": {
      "name": "python3",
      "display_name": "Python 3"
    },
    "language_info": {
      "name": "python"
    }
  },
  "cells": [
    {
      "cell_type": "code",
      "execution_count": 1,
      "metadata": {
        "colab": {
          "base_uri": "https://localhost:8080/"
        },
        "id": "C4cWD4KUEPoL",
        "outputId": "7fe50803-ffec-4e40-9a0d-abe86c69e1fc"
      },
      "outputs": [
        {
          "output_type": "stream",
          "name": "stdout",
          "text": [
            "120\n",
            "(1, 2)\n",
            "(1, 3)\n",
            "(1, 4)\n",
            "(1, 5)\n",
            "(2, 1)\n",
            "(2, 3)\n",
            "(2, 4)\n",
            "(2, 5)\n",
            "(3, 1)\n",
            "(3, 2)\n",
            "(3, 4)\n",
            "(3, 5)\n",
            "(4, 1)\n",
            "(4, 2)\n",
            "(4, 3)\n",
            "(4, 5)\n",
            "(5, 1)\n",
            "(5, 2)\n",
            "(5, 3)\n",
            "(5, 4)\n"
          ]
        }
      ],
      "source": [
        "#for factorial of 5\n",
        "N=5\n",
        "factorial=1\n",
        "for x in range(1, N +1) :\n",
        "    factorial *= x\n",
        "print(factorial)\n",
        "#for combinations of n=5, r=2\n",
        "import itertools as it\n",
        "A=[5]\n",
        "list_combinations=it.combinations(A, 2) \n",
        "for item in list(list_combinations) :\n",
        "        print(item)\n",
        "#for permutations of n=5, r=2\n",
        "from itertools import permutations\n",
        "a=permutations([1, 2,3,4,5],2) \n",
        "for i in a:\n",
        "    print(i)"
      ]
    },
    {
      "cell_type": "code",
      "source": [
        "def add(A,B):\n",
        "  B=(1,2,3,4)\n",
        "  A=(4,5,2,7)\n",
        "  return A+B\n",
        "  print(A+B)\n",
        "  list.reverse()"
      ],
      "metadata": {
        "id": "gikKXd9aEdws"
      },
      "execution_count": 3,
      "outputs": []
    },
    {
      "cell_type": "code",
      "source": [
        "from scipy.spatial.distance import cityblock\n",
        "A = [1, 3, 4, 6,7]\n",
        "B = [6,8,1,4,3]\n",
        "\n",
        "print(cityblock(A, B))\n",
        "#import functions\n",
        "import numpy as np\n",
        "from numpy.linalg import norm\n",
        "a = np.array( [1, 3, 4, 6,7])\n",
        "b = np.array([6,8,1,4,3])\n",
        "norm(a-b)"
      ],
      "metadata": {
        "colab": {
          "base_uri": "https://localhost:8080/"
        },
        "id": "kdu5IDopEnUX",
        "outputId": "c719b028-ec26-4d05-97d6-f2df0bf0b5a2"
      },
      "execution_count": 4,
      "outputs": [
        {
          "output_type": "stream",
          "name": "stdout",
          "text": [
            "19\n"
          ]
        },
        {
          "output_type": "execute_result",
          "data": {
            "text/plain": [
              "8.888194417315589"
            ]
          },
          "metadata": {},
          "execution_count": 4
        }
      ]
    },
    {
      "cell_type": "code",
      "source": [
        "l=float(input())\n",
        "b=float(input())\n",
        "Area=l*b\n",
        "print(\"Area of a rectangle is:%2f\"%Area)\n",
        "import math\n",
        "r=float(input())\n",
        "area=math.pi*r*r\n",
        "print(\"Area of circle is:%2f\"%area)"
      ],
      "metadata": {
        "colab": {
          "base_uri": "https://localhost:8080/"
        },
        "id": "y9dQJ8JHEwWe",
        "outputId": "ad553291-1e0e-4479-934c-e55f978e803d"
      },
      "execution_count": 5,
      "outputs": [
        {
          "output_type": "stream",
          "name": "stdout",
          "text": [
            "22.7\n",
            "20.9\n",
            "Area of a rectangle is:474.430000\n",
            "12.2\n",
            "Area of circle is:467.594651\n"
          ]
        }
      ]
    },
    {
      "cell_type": "code",
      "source": [
        "from scipy.stats import poisson\n",
        "poisson.pmf(k=1,mu=2)\n",
        "poisson.cdf(k=1,mu=2)"
      ],
      "metadata": {
        "colab": {
          "base_uri": "https://localhost:8080/"
        },
        "id": "ffL1xjRSE8mE",
        "outputId": "feba75db-512c-427b-831c-d5ed6e7cc8ca"
      },
      "execution_count": 6,
      "outputs": [
        {
          "output_type": "execute_result",
          "data": {
            "text/plain": [
              "0.40600584970983794"
            ]
          },
          "metadata": {},
          "execution_count": 6
        }
      ]
    }
  ]
}
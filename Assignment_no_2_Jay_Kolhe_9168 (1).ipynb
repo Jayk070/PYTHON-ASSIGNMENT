{
  "nbformat": 4,
  "nbformat_minor": 0,
  "metadata": {
    "colab": {
      "name": "Assignment_no_2 Jay Kolhe 9168.ipynb",
      "provenance": [],
      "collapsed_sections": []
    },
    "kernelspec": {
      "name": "python3",
      "display_name": "Python 3"
    },
    "language_info": {
      "name": "python"
    }
  },
  "cells": [
    {
      "cell_type": "markdown",
      "source": [
        "Q1.Write a Python User Define Function to reverse a string"
      ],
      "metadata": {
        "id": "svUEdjgQPI2D"
      }
    },
    {
      "cell_type": "code",
      "execution_count": 1,
      "metadata": {
        "colab": {
          "base_uri": "https://localhost:8080/"
        },
        "id": "4I78c7Y6yFcN",
        "outputId": "a0bcf43e-8694-4ed5-b449-13e07e87626f"
      },
      "outputs": [
        {
          "output_type": "stream",
          "name": "stdout",
          "text": [
            "tnemngissa\n"
          ]
        }
      ],
      "source": [
        "#Solution 1\n",
        "def rev(s):\n",
        "  string=''\n",
        "  for i in s:\n",
        "    string=i+string\n",
        "  return string\n",
        "\n",
        "print(rev('assignment'))"
      ]
    },
    {
      "cell_type": "markdown",
      "source": [
        "Q2. Write a Python min_max function which will return Min, Max of 4 inputs from the user."
      ],
      "metadata": {
        "id": "X2bXQlokPQLT"
      }
    },
    {
      "cell_type": "code",
      "source": [
        "#Solution 2\n",
        "def min_max(n): #number of inputs\n",
        "\n",
        "   l=[]\n",
        "   for i in range(0,n):\n",
        "    num=int(input())\n",
        "    l.append(num)\n",
        "\n",
        "   maxi=max(l)\n",
        "   mini=min(l)\n",
        "\n",
        "   return(mini,maxi) #returns the smallest and highest element of the input\n",
        "print(min_max(4))"
      ],
      "metadata": {
        "colab": {
          "base_uri": "https://localhost:8080/"
        },
        "id": "jgP5Cy5JzIDE",
        "outputId": "6d674d73-4f80-4de5-b43a-58e5731289b6"
      },
      "execution_count": 2,
      "outputs": [
        {
          "output_type": "stream",
          "name": "stdout",
          "text": [
            "52\n",
            "81\n",
            "2\n",
            "128\n",
            "(2, 128)\n"
          ]
        }
      ]
    },
    {
      "cell_type": "markdown",
      "source": [
        "Q3. Write a Python function to sum 4 inputs from the user."
      ],
      "metadata": {
        "id": "UrabP6RePUqJ"
      }
    },
    {
      "cell_type": "code",
      "source": [
        "#Solution 3\n",
        "def sum(n):\n",
        "  l=[]\n",
        "  for i in range(0,n):\n",
        "    ele=int(input())\n",
        "    l.append(ele)\n",
        "  sum=0\n",
        "  for i in l:\n",
        "    sum=sum+i\n",
        "\n",
        "  return(sum)\n",
        "print(sum(4))"
      ],
      "metadata": {
        "colab": {
          "base_uri": "https://localhost:8080/"
        },
        "id": "yNjgu5p90E01",
        "outputId": "652aad0f-3856-4f95-ca99-139b2de1cd01"
      },
      "execution_count": 3,
      "outputs": [
        {
          "output_type": "stream",
          "name": "stdout",
          "text": [
            "25\n",
            "47\n",
            "89\n",
            "66\n",
            "227\n"
          ]
        }
      ]
    },
    {
      "cell_type": "markdown",
      "source": [
        "Q4. Find out the Command which will return you number of local variables from the user define function."
      ],
      "metadata": {
        "id": "zLUY3PsZPZ_X"
      }
    },
    {
      "cell_type": "code",
      "source": [
        "#Solution 4\n",
        "\n",
        "#The command co_nlocals() can be used to find the number of local variables from an user defined function."
      ],
      "metadata": {
        "id": "TmfBYNAr0jmX"
      },
      "execution_count": null,
      "outputs": []
    },
    {
      "cell_type": "markdown",
      "source": [
        "Q5.Write Python Function to get even number from the list. List len must be equal to 8."
      ],
      "metadata": {
        "id": "mqP-nJ7ZPfxE"
      }
    },
    {
      "cell_type": "code",
      "source": [
        "#Solution 5\n",
        "def is_even_num(l):\n",
        "  enum=[]\n",
        "  for n in l:\n",
        "    if n % 2 == 0:\n",
        "      enum.append(n)\n",
        "  return enum\n",
        "print(is_even_num([40,29,2,57,23,20,47,50]))\n",
        "\n"
      ],
      "metadata": {
        "colab": {
          "base_uri": "https://localhost:8080/"
        },
        "id": "eWMPeZft1A4M",
        "outputId": "f55cf595-f6c1-4239-80b0-89a53a332b17"
      },
      "execution_count": 4,
      "outputs": [
        {
          "output_type": "stream",
          "name": "stdout",
          "text": [
            "[40, 2, 20, 50]\n"
          ]
        }
      ]
    }
  ]
}